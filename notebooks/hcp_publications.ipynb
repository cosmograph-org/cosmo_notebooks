{
 "cells": [
  {
   "cell_type": "markdown",
   "id": "48ff72fb",
   "metadata": {},
   "source": [
    "### HCP Publications Dataset\n",
    "- **Description:** Human Connectome Project (HCP) publications and citation networks.\n",
    "- **Data Source:**\n",
    "    - points: [aggregate_titles_embeddings_umap_2d_with_info.parquet](https://www.dropbox.com/scl/fi/uj14y2hre4he2iafpativ/aggregate_titles_embeddings_umap_2d_with_info.parquet?rlkey=tjey12v6cru3iq88xitytefsr&dl=1)\n",
    "    - links: [citation-links-hcp3.parquet](https://www.dropbox.com/scl/fi/3om0epfc2ukkad2ld87rs/citation-links-hcp3.parquet?rlkey=3ldck9m0hs7snswixn2qdts8i&dl=1)\n",
    "- **Potential columns for visualization:**\n",
    "    - **X & Y Coordinates:** `x`, `y`\n",
    "    - **Point Size:** `n_cits` (citation count)\n",
    "    - **Color:** `main_field` (research domain)\n",
    "    - **Label:** `title`\n",
    "- **Related code file:** [hcp.py](https://github.com/thorwhalen/imbed_data_prep/blob/main/imbed_data_prep/hcp.py)"
   ]
  },
  {
   "cell_type": "markdown",
   "id": "f54cee1a",
   "metadata": {},
   "source": [
    "## Get data"
   ]
  },
  {
   "cell_type": "markdown",
   "id": "509d9222",
   "metadata": {},
   "source": [
    "### Data parameters"
   ]
  },
  {
   "cell_type": "code",
   "execution_count": 25,
   "id": "ce55cd80",
   "metadata": {},
   "outputs": [],
   "source": [
    "ext = '.parquet'\n",
    "src = 'https://www.dropbox.com/scl/fi/uj14y2hre4he2iafpativ/aggregate_titles_embeddings_umap_2d_with_info.parquet?rlkey=tjey12v6cru3iq88xitytefsr&dl=1'\n",
    "target_filename = 'aggregate_titles_embeddings_umap_2d_with_info.parquet'\n",
    "\n",
    "links_src = 'https://www.dropbox.com/scl/fi/3om0epfc2ukkad2ld87rs/citation-links-hcp3.parquet?rlkey=3ldck9m0hs7snswixn2qdts8i&dl=1'\n",
    "links_target_filename = 'citation-links-hcp3.parquet'"
   ]
  },
  {
   "cell_type": "markdown",
   "id": "0030ae5f",
   "metadata": {},
   "source": [
    "### Install and import"
   ]
  },
  {
   "cell_type": "code",
   "execution_count": 2,
   "id": "db707f54",
   "metadata": {},
   "outputs": [],
   "source": [
    "import os\n",
    "if not os.getenv('IN_COSMO_DEV_ENV'):\n",
    "    %pip install -q cosmograph tabled cosmodata\n",
    "\n",
    "import tabled\n",
    "import cosmodata\n",
    "\n",
    "from functools import partial \n",
    "from cosmograph import cosmo"
   ]
  },
  {
   "cell_type": "markdown",
   "id": "0f01099a",
   "metadata": {},
   "source": [
    "### Load data"
   ]
  },
  {
   "cell_type": "code",
   "execution_count": 26,
   "id": "f9853d50",
   "metadata": {},
   "outputs": [],
   "source": [
    "if ext:\n",
    "    getter = partial(tabled.get_table, ext=ext)\n",
    "else:\n",
    "    getter = tabled.get_table\n",
    "# acquire_data takes care of caching locally too, so next time access will be faster\n",
    "# (If you want a fresh copy, you can delete the local cache file manually.)\n",
    "data = cosmodata.acquire_data(src, target_filename, getter=getter)\n",
    "links = cosmodata.acquire_data(links_src, links_target_filename, getter=getter)"
   ]
  },
  {
   "cell_type": "markdown",
   "id": "9cff197d",
   "metadata": {},
   "source": [
    "## Peep at the data"
   ]
  },
  {
   "cell_type": "code",
   "execution_count": 4,
   "id": "b5eb230c",
   "metadata": {},
   "outputs": [
    {
     "name": "stdout",
     "output_type": "stream",
     "text": [
      "DataFrame shape: (340855, 9)\n",
      "First row\n",
      "------------------------------------------------------------\n",
      "id                                                          245658\n",
      "x                                                        10.981117\n",
      "y                                                          7.02786\n",
      "title            Standardized low-resolution brain electromagne...\n",
      "source                                                      PubMed\n",
      "pub_date                                                2002-01-01\n",
      "n_cits                                                        1056\n",
      "micro_cluster                                                  241\n",
      "main_field                          Biomedical and health sciences\n"
     ]
    }
   ],
   "source": [
    "mode = 'short'  #Literal['short', 'sample', 'stats'] = 'short',\n",
    "exclude_cols = []\n",
    "cosmodata.print_dataframe_info(data, exclude_cols, mode=mode)"
   ]
  },
  {
   "cell_type": "code",
   "execution_count": 28,
   "id": "aa917dfc-20cd-4e5e-bbd0-b4ab01d55824",
   "metadata": {},
   "outputs": [
    {
     "name": "stdout",
     "output_type": "stream",
     "text": [
      "DataFrame shape: (4891305, 3)\n",
      "First row\n",
      "------------------------------------------------------------\n",
      "citing_pub_id        245658\n",
      "cited_pub_id     2013150886\n",
      "date             2002-01-01\n"
     ]
    }
   ],
   "source": [
    "cosmodata.print_dataframe_info(links, exclude_cols, mode=mode)"
   ]
  },
  {
   "cell_type": "markdown",
   "id": "ec1444ff",
   "metadata": {},
   "source": [
    "## Visualize data"
   ]
  },
  {
   "cell_type": "markdown",
   "id": "49fced27",
   "metadata": {},
   "source": [
    "### Scatter Plot of Publications\n",
    "\n",
    "This scatter plot visualizes publications based on their `x` and `y` coordinate values. The size of each point represents the number of citations each publication has received, allowing a quick assessment of impact based on `n_cits`. Each point is colored based on the `main_field` of the publication, helping to visually distinguish the different fields of study."
   ]
  },
  {
   "cell_type": "code",
   "execution_count": 6,
   "id": "b8da8b37",
   "metadata": {},
   "outputs": [
    {
     "data": {
      "application/vnd.jupyter.widget-view+json": {
       "model_id": "102101cd74344cf2a210ba6d6b58d91c",
       "version_major": 2,
       "version_minor": 1
      },
      "text/plain": [
       "Cosmograph(background_color=None, components_display_state_mode=None, focused_point_ring_color=None, hovered_p…"
      ]
     },
     "execution_count": 6,
     "metadata": {},
     "output_type": "execute_result"
    }
   ],
   "source": [
    "cosmo(\n",
    "    data,\n",
    "    point_x_by=\"x\",\n",
    "    point_y_by=\"y\",\n",
    "    point_size_by=\"n_cits\",\n",
    "    point_color_by=\"main_field\",\n",
    "    point_id_by=\"id\",\n",
    "    point_label_by=\"title\",\n",
    "    point_color_palette=[\"#FF6347\", \"#4682B4\", \"#3CB371\"],\n",
    "    point_size_range=[5, 20],\n",
    "    show_labels=True,\n",
    "    render_links=False,\n",
    ")"
   ]
  },
  {
   "cell_type": "markdown",
   "id": "974742ec",
   "metadata": {},
   "source": [
    "### Clustered Publication Map by Micro Clusters\n",
    "\n",
    "This visualization employs point clustering based on the `micro_cluster` column, enabling users to identify concentrations of related publications in the coordinate space defined by `x` and `y`. The points are sized by citation count, and their colors differentiate micro clusters."
   ]
  },
  {
   "cell_type": "code",
   "execution_count": 7,
   "id": "8eab7d15",
   "metadata": {},
   "outputs": [
    {
     "data": {
      "application/vnd.jupyter.widget-view+json": {
       "model_id": "64f72947628a4c6297e0ce3002cdd20c",
       "version_major": 2,
       "version_minor": 1
      },
      "text/plain": [
       "Cosmograph(background_color=None, components_display_state_mode=None, disable_simulation=False, fit_view_on_in…"
      ]
     },
     "execution_count": 7,
     "metadata": {},
     "output_type": "execute_result"
    }
   ],
   "source": [
    "cosmo(\n",
    "    data,\n",
    "    point_x_by=\"x\",\n",
    "    point_y_by=\"y\",\n",
    "    point_size_by=\"n_cits\",\n",
    "    point_color_by=\"micro_cluster\",\n",
    "    point_id_by=\"id\",\n",
    "    point_color_palette=[\"#FF4500\", \"#32CD32\", \"#1E90FF\"],\n",
    "    point_size_range=[2, 15],\n",
    "    show_labels=True,\n",
    "    show_top_labels=True,\n",
    "    show_top_labels_limit=5,\n",
    "    fit_view_on_init=True,\n",
    "    disable_simulation=False,\n",
    ")"
   ]
  },
  {
   "cell_type": "markdown",
   "id": "72029ce3",
   "metadata": {},
   "source": [
    "### Publication Network Visualization\n",
    "\n",
    "Here we visually represent relationships between publications by treating them as nodes linked by their citation connections. This requires additional linking data to depict how these publications relate through citations, using `id` as node identifiers. Links can be created to reflect citation patterns if the data extends to include connections."
   ]
  },
  {
   "cell_type": "code",
   "execution_count": null,
   "id": "b7f66a5a-ee16-4eab-ac56-ef17ec9e09d2",
   "metadata": {},
   "outputs": [],
   "source": [
    "print"
   ]
  },
  {
   "cell_type": "code",
   "execution_count": 30,
   "id": "f2fcd942",
   "metadata": {},
   "outputs": [
    {
     "data": {
      "application/vnd.jupyter.widget-view+json": {
       "model_id": "2f3c104722504baeb32f03a31867191c",
       "version_major": 2,
       "version_minor": 1
      },
      "text/plain": [
       "Cosmograph(background_color=None, components_display_state_mode=None, focused_point_ring_color=None, hovered_p…"
      ]
     },
     "execution_count": 30,
     "metadata": {},
     "output_type": "execute_result"
    }
   ],
   "source": [
    "cosmo(\n",
    "    data,\n",
    "    links=links,\n",
    "    point_size_by=\"n_cits\",\n",
    "    point_color_by=\"main_field\",\n",
    "    point_id_by=\"id\",\n",
    "    link_source_by=\"citing_pub_id\",\n",
    "    link_target_by=\"cited_pub_id\",\n",
    "    link_width=1,\n",
    "    link_arrows=False,\n",
    "    render_links=False,\n",
    "    show_labels=False,\n",
    ")"
   ]
  },
  {
   "cell_type": "code",
   "execution_count": 31,
   "id": "79495f42-97ed-47fd-9af7-d930851981c6",
   "metadata": {},
   "outputs": [],
   "source": []
  },
  {
   "cell_type": "code",
   "execution_count": 35,
   "id": "64f8d17e-2de7-4861-9aad-fe0e9a44ef72",
   "metadata": {},
   "outputs": [],
   "source": [
    "graph.capture_screenshot()"
   ]
  },
  {
   "cell_type": "code",
   "execution_count": null,
   "id": "1a35b404-fc62-4969-95aa-03a21cdfc277",
   "metadata": {},
   "outputs": [],
   "source": []
  }
 ],
 "metadata": {
  "kernelspec": {
   "display_name": "Python 3 (ipykernel)",
   "language": "python",
   "name": "python3"
  },
  "language_info": {
   "codemirror_mode": {
    "name": "ipython",
    "version": 3
   },
   "file_extension": ".py",
   "mimetype": "text/x-python",
   "name": "python",
   "nbconvert_exporter": "python",
   "pygments_lexer": "ipython3",
   "version": "3.12.12"
  }
 },
 "nbformat": 4,
 "nbformat_minor": 5
}
