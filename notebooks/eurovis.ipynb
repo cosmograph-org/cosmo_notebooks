{
 "cells": [
  {
   "cell_type": "markdown",
   "id": "296d3aae",
   "metadata": {},
   "source": [
    "### EuroVis Dataset\n",
    "- **Raw Data:** Academic publications metadata from the EuroVis conference, including titles, abstracts, authors, and awards.\n",
    "- **Prepared Data:** [merged_artifacts.parquet](https://www.dropbox.com/scl/fi/i285q892wjmm6f9oak41g/merged_artifacts.parquet?rlkey=1y32rk8uzbiet9u18no760jad&dl=1) (5599 rows, 18 columns)\n",
    "  - **Potential columns for visualization:**\n",
    "    - **X & Y Coordinates:** `x`, `y`\n",
    "    - **Point Size:** `n_tokens` (number of tokens in the abstract)\n",
    "    - **Color:** Cluster labels (`cluster_05`, `cluster_08`, etc.)\n",
    "    - **Label:** `title`\n",
    "  - **Related code file:** [eurovis.py](https://github.com/thorwhalen/imbed_data_prep/blob/main/imbed_data_prep/eurovis.py)"
   ]
  },
  {
   "cell_type": "markdown",
   "id": "0c0e78f9",
   "metadata": {},
   "source": [
    "## Get data"
   ]
  },
  {
   "cell_type": "code",
   "execution_count": null,
   "id": "66721ed9",
   "metadata": {},
   "outputs": [],
   "source": [
    "# Install and import\n",
    "\n",
    "import os\n",
    "if not os.getenv('IN_COSMO_DEV_ENV'):\n",
    "    %pip install -q cosmograph tabled cosmodata\n",
    "\n",
    "import cosmodata\n",
    "from functools import partial \n",
    "import tabled\n",
    "from cosmograph import cosmo"
   ]
  },
  {
   "cell_type": "code",
   "execution_count": 29,
   "id": "39635b75",
   "metadata": {},
   "outputs": [],
   "source": [
    "get_parquet = partial(tabled.get_table, ext='.parquet')\n",
    "src = 'https://www.dropbox.com/scl/fi/i285q892wjmm6f9oak41g/merged_artifacts.parquet?rlkey=1y32rk8uzbiet9u18no760jad&dl=1'\n",
    "data = cosmodata.acquire_data(src, 'eurovis_merged_artifacts.parquet', getter=get_parquet)"
   ]
  },
  {
   "cell_type": "markdown",
   "id": "87edb0e3",
   "metadata": {},
   "source": [
    "## Peep at the data"
   ]
  },
  {
   "cell_type": "code",
   "execution_count": 44,
   "id": "30021adb",
   "metadata": {},
   "outputs": [
    {
     "name": "stdout",
     "output_type": "stream",
     "text": [
      "DataFrame shape: (5599, 18)\n",
      "First row\n",
      "------------------------------------------------------------\n",
      "conference                                                      EuroVis\n",
      "year                                                               2024\n",
      "title                 A Prediction-Traversal Approach for Compressin...\n",
      "doi                                                   10.1111/cgf.15097\n",
      "abstract              We explore an error-bounded lossy compression ...\n",
      "authorNamesDeduped           Congrong Ren;Xin Liang 0001;Hanqi Guo 0001\n",
      "award                                                              None\n",
      "resources                                                             P\n",
      "link                     https://vispubs.com/?paper=10.1111%2Fcgf.15097\n",
      "segment               ##A Prediction-Traversal Approach for Compress...\n",
      "n_tokens                                                            318\n",
      "x                                                            -16.307396\n",
      "y                                                            -14.705571\n",
      "cluster_05                                                            4\n",
      "cluster_08                                                            7\n",
      "cluster_13                                                           12\n",
      "cluster_21                                                           16\n",
      "cluster_34                                                           30\n"
     ]
    }
   ],
   "source": [
    "cosmodata.print_dataframe_info(data)"
   ]
  },
  {
   "cell_type": "markdown",
   "id": "c783105b",
   "metadata": {},
   "source": [
    "## Visualize data"
   ]
  },
  {
   "cell_type": "markdown",
   "id": "8f06b312",
   "metadata": {},
   "source": [
    "### 💡 Visualization Mapping\n",
    "\n",
    "🧭 What You’ll See\n",
    "- Each point = one paper\n",
    "- Position (x,y) → semantic similarity in embedding space\n",
    "- Color (cluster_13) → paper topic cluster\n",
    "- Size (year) → publication recency\n",
    "- Hovering or zooming reveals paper titles interactively\n",
    "\n",
    "🧠 Optional Extensions\n",
    "- Replace cluster_13 with cluster_21 or cluster_34 for finer granularity.\n",
    "- Use conference to color points if merging across multiple conferences.\n",
    "- Filter by resources == 'P' or award ≠ None to highlight papers with supplementary resources or awards."
   ]
  },
  {
   "cell_type": "code",
   "execution_count": 40,
   "id": "1d65c76d",
   "metadata": {},
   "outputs": [
    {
     "data": {
      "application/vnd.jupyter.widget-view+json": {
       "model_id": "49209e3bdf214900b8e1520bfe3f00c2",
       "version_major": 2,
       "version_minor": 1
      },
      "text/plain": [
       "Cosmograph(background_color='#111111', disable_point_color_legend=False, fit_view_on_init=True, focused_point_…"
      ]
     },
     "execution_count": 40,
     "metadata": {},
     "output_type": "execute_result"
    }
   ],
   "source": [
    "cosmo(\n",
    "    data,\n",
    "    point_x_by=\"x\",\n",
    "    point_y_by=\"y\",\n",
    "    point_color_by=\"cluster_13\",     # Try other cluster granularities too (05, 08, 21, 34)\n",
    "    point_label_by=\"title\",\n",
    "    point_size_by=\"year\",             # optional, newer papers slightly larger\n",
    "    point_timeline_by=\"year\",         # enables time slider by year\n",
    "    show_dynamic_labels=True,\n",
    "    disable_point_color_legend=False,\n",
    "    background_color=\"#111111\",\n",
    "    fit_view_on_init=True,\n",
    ")"
   ]
  },
  {
   "cell_type": "markdown",
   "id": "d09693d6",
   "metadata": {},
   "source": [
    "### Resource & Abstract-Length Lens\n",
    "\n",
    "- Grey background\n",
    "- Color encodes the **type of resource** (e.g., poster/talk/etc.).\n",
    "- Size reflects **abstract length** (n_tokens) to surface denser papers.\n",
    "- Top labels show the **wordiest** items; hover for full titles.\n",
    "- Extra columns included for rich tooltips."
   ]
  },
  {
   "cell_type": "code",
   "execution_count": 43,
   "id": "b9d6d427",
   "metadata": {},
   "outputs": [
    {
     "data": {
      "application/vnd.jupyter.widget-view+json": {
       "model_id": "26984e188c6946aca10f9fa3c197b3f8",
       "version_major": 2,
       "version_minor": 1
      },
      "text/plain": [
       "Cosmograph(background_color='#aaaaaa', fit_view_on_init=True, focused_point_ring_color=None, hovered_point_rin…"
      ]
     },
     "execution_count": 43,
     "metadata": {},
     "output_type": "execute_result"
    }
   ],
   "source": [
    "cosmo(\n",
    "    data,\n",
    "    point_x_by=\"x\",\n",
    "    point_y_by=\"y\",\n",
    "    point_color_by=\"resources\",\n",
    "    point_size_by=\"n_tokens\",\n",
    "    show_top_labels=True,\n",
    "    show_top_labels_by=\"n_tokens\",\n",
    "    show_top_labels_limit=40,\n",
    "    point_label_by=\"title\",\n",
    "    point_include_columns=[\"authorNamesDeduped\", \"doi\", \"link\", \"resources\", \"year\"],\n",
    "    fit_view_on_init=True,\n",
    "    background_color=\"#aaaaaa\",\n",
    ")\n"
   ]
  },
  {
   "cell_type": "markdown",
   "id": "44adb1f8",
   "metadata": {},
   "source": [
    "### Chronological Heatmap of Topics\n",
    "\n",
    "- Color encodes publication year to reveal temporal waves across the embedding.\n",
    "- Uses a fine-grained topic view via cluster_34 as static labels for context (optional).\n",
    "- Uniform point size to emphasize the color gradient."
   ]
  },
  {
   "cell_type": "code",
   "execution_count": 45,
   "id": "112f1454",
   "metadata": {},
   "outputs": [
    {
     "data": {
      "application/vnd.jupyter.widget-view+json": {
       "model_id": "d09d0de21cf34890b155b2cb722e0719",
       "version_major": 2,
       "version_minor": 1
      },
      "text/plain": [
       "Cosmograph(background_color='#0e0e0e', fit_view_on_init=True, focused_point_ring_color=None, hovered_point_rin…"
      ]
     },
     "execution_count": 45,
     "metadata": {},
     "output_type": "execute_result"
    }
   ],
   "source": [
    "cosmo(\n",
    "    data,\n",
    "    point_x_by=\"x\",\n",
    "    point_y_by=\"y\",\n",
    "    point_color_by=\"year\",\n",
    "    # Optional: faint labels for dense topical areas\n",
    "    show_top_labels=True,\n",
    "    show_top_labels_by=\"cluster_34\",\n",
    "    show_top_labels_limit=60,\n",
    "    point_label_by=\"cluster_34\",\n",
    "    point_size=3.5,\n",
    "    point_include_columns=[\"title\", \"year\", \"cluster_34\", \"doi\", \"link\"],\n",
    "    fit_view_on_init=True,\n",
    "    background_color=\"#0e0e0e\",\n",
    ")\n"
   ]
  },
  {
   "cell_type": "code",
   "execution_count": null,
   "id": "8a4d6ba8",
   "metadata": {},
   "outputs": [],
   "source": []
  },
  {
   "cell_type": "code",
   "execution_count": null,
   "id": "aec1605e",
   "metadata": {},
   "outputs": [],
   "source": []
  },
  {
   "cell_type": "code",
   "execution_count": null,
   "id": "babf0e74",
   "metadata": {},
   "outputs": [],
   "source": []
  }
 ],
 "metadata": {
  "kernelspec": {
   "display_name": "p12",
   "language": "python",
   "name": "python3"
  },
  "language_info": {
   "codemirror_mode": {
    "name": "ipython",
    "version": 3
   },
   "file_extension": ".py",
   "mimetype": "text/x-python",
   "name": "python",
   "nbconvert_exporter": "python",
   "pygments_lexer": "ipython3",
   "version": "3.12.12"
  }
 },
 "nbformat": 4,
 "nbformat_minor": 5
}
