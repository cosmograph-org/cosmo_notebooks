{
 "cells": [
  {
   "cell_type": "markdown",
   "id": "9a1282f5",
   "metadata": {},
   "source": [
    "### Spotify Playlists Dataset\n",
    "- **Description:** Metadata on popular songs from various playlists, including holiday songs and the greatest 500 songs.\n",
    "- **Data Source:** [holiday_songs_spotify_with_embeddings.parquet](https://www.dropbox.com/scl/fi/blchigtklrn49cp9v7aga/holiday_songs_spotify_with_embeddings.parquet?rlkey=wvr58wnj1rrx2zblsp73ufpdy&dl=1)\n",
    "  - **Potential columns for visualization:**\n",
    "    - **X & Y Coordinates:** `umap_x`, `umap_y`, `tsne_x`, `tsne_y`\n",
    "    - **Point Size:** `popularity`\n",
    "    - **Color:** `genre` (derived from playlist)\n",
    "    - **Label:** `track_name`"
   ]
  },
  {
   "cell_type": "markdown",
   "id": "711ac7b9",
   "metadata": {},
   "source": [
    "## Get data"
   ]
  },
  {
   "cell_type": "markdown",
   "id": "94f64336",
   "metadata": {},
   "source": [
    "### Data parameters"
   ]
  },
  {
   "cell_type": "code",
   "execution_count": 1,
   "id": "232a7e72",
   "metadata": {},
   "outputs": [],
   "source": [
    "ext = '.parquet'\n",
    "src = 'https://www.dropbox.com/scl/fi/blchigtklrn49cp9v7aga/holiday_songs_spotify_with_embeddings.parquet?rlkey=wvr58wnj1rrx2zblsp73ufpdy&dl=1'\n",
    "target_filename = 'holiday_songs_spotify_with_embeddings.parquet'"
   ]
  },
  {
   "cell_type": "markdown",
   "id": "00c54f12",
   "metadata": {},
   "source": [
    "### Install and import"
   ]
  },
  {
   "cell_type": "code",
   "execution_count": 2,
   "id": "d6a1b7e0",
   "metadata": {},
   "outputs": [],
   "source": [
    "import os\n",
    "if not os.getenv('IN_COSMO_DEV_ENV'):\n",
    "    %pip install -q cosmograph tabled cosmodata\n",
    "\n",
    "import tabled\n",
    "import cosmodata\n",
    "\n",
    "from functools import partial \n",
    "from cosmograph import cosmo"
   ]
  },
  {
   "cell_type": "code",
   "execution_count": null,
   "id": "91d58d58",
   "metadata": {},
   "outputs": [],
   "source": []
  },
  {
   "cell_type": "markdown",
   "id": "37d7514c",
   "metadata": {},
   "source": [
    "### Load data"
   ]
  },
  {
   "cell_type": "code",
   "execution_count": 3,
   "id": "3b088342",
   "metadata": {},
   "outputs": [],
   "source": [
    "if ext:\n",
    "    getter = partial(tabled.get_table, ext=ext)\n",
    "else:\n",
    "    getter = tabled.get_table\n",
    "# acquire_data takes care of caching locally too, so next time access will be faster\n",
    "# (If you want a fresh copy, you can delete the local cache file manually.)\n",
    "data = cosmodata.acquire_data(src, target_filename, getter=getter)"
   ]
  },
  {
   "cell_type": "markdown",
   "id": "6cbe64ce",
   "metadata": {},
   "source": [
    "## Peep at the data"
   ]
  },
  {
   "cell_type": "code",
   "execution_count": null,
   "id": "d8050fee-38fa-4ae9-8361-7544dbee6166",
   "metadata": {},
   "outputs": [],
   "source": []
  },
  {
   "cell_type": "code",
   "execution_count": 4,
   "id": "5c5619f3",
   "metadata": {},
   "outputs": [
    {
     "name": "stdout",
     "output_type": "stream",
     "text": [
      "DataFrame shape: (167, 27)\n",
      "First row\n",
      "------------------------------------------------------------\n",
      "column_a                                                            1\n",
      "track_uri                                      00IqwkT0PZhJ86PJajRCqk\n",
      "danceability                                                    0.195\n",
      "energy                                                          0.348\n",
      "key                                                                A#\n",
      "loudness                                                      -10.106\n",
      "mode                                                            major\n",
      "speechiness                                                    0.0332\n",
      "acousticness                                                     0.82\n",
      "instrumentalness                                                  0.0\n",
      "liveness                                                        0.126\n",
      "valence                                                         0.262\n",
      "tempo                                                         166.824\n",
      "duration_ms                                                    213107\n",
      "time_signature                                                      3\n",
      "key_mode                                                     A# major\n",
      "playlist_name                                       new_holiday_songs\n",
      "playlist_img        https://mosaic.scdn.co/640/5f79f928a45b878579e...\n",
      "track_name                                               Silver Bells\n",
      "artist_name                                             Johnny Mathis\n",
      "album_name                                            Merry Christmas\n",
      "album_img           https://i.scdn.co/image/b878b9e27201163be07e74...\n",
      "key_frequency                                                  466.16\n",
      "tsne_x                                                      -3.450695\n",
      "tsne_y                                                       0.430347\n",
      "umap_x                                                      11.800123\n",
      "umap_y                                                       8.495023\n"
     ]
    }
   ],
   "source": [
    "mode = 'short'  #Literal['short', 'sample', 'stats'] = 'short',\n",
    "exclude_cols = []\n",
    "cosmodata.print_dataframe_info(data, exclude_cols, mode=mode)"
   ]
  },
  {
   "cell_type": "markdown",
   "id": "24f4782e",
   "metadata": {},
   "source": [
    "## Visualize data"
   ]
  },
  {
   "cell_type": "markdown",
   "id": "22c45477",
   "metadata": {},
   "source": [
    "### Energy vs Danceability Landscape\n",
    "\n",
    "- Each point is a track\n",
    "- X: `danceability`, Y: `energy`\n",
    "- Color by `mode`\n",
    "- Size by `valence` (how positive the track feels)\n",
    "- Dynamic labels show `track_name`\n"
   ]
  },
  {
   "cell_type": "code",
   "execution_count": 8,
   "id": "55323fd7",
   "metadata": {},
   "outputs": [
    {
     "data": {
      "application/vnd.jupyter.widget-view+json": {
       "model_id": "6feed7621efa412fb2e18076fed9266b",
       "version_major": 2,
       "version_minor": 1
      },
      "text/plain": [
       "Cosmograph(background_color='#111111', components_display_state_mode=None, focused_point_ring_color=None, hove…"
      ]
     },
     "execution_count": 8,
     "metadata": {},
     "output_type": "execute_result"
    }
   ],
   "source": [
    "cosmo(\n",
    "    data,\n",
    "    point_x_by=\"danceability\",\n",
    "    point_y_by=\"energy\",\n",
    "    point_color_by=\"mode\",\n",
    "    point_size_by=\"valence\",\n",
    "    point_label_by=\"track_name\",\n",
    "    show_dynamic_labels=True,\n",
    "    background_color=\"#111111\",\n",
    ")\n"
   ]
  },
  {
   "cell_type": "markdown",
   "id": "d9daf5b9",
   "metadata": {},
   "source": [
    "### Acoustic–Electronic Spectrum in UMAP Space\n",
    "\n",
    "- UMAP projection shows similarity in overall sound embeddings\n",
    "- X: `umap_x`, Y: `umap_y`\n",
    "- Color by `acousticness`\n",
    "- Size by `energy`\n",
    "- Label by `artist_name`\n"
   ]
  },
  {
   "cell_type": "code",
   "execution_count": 6,
   "id": "f2bf6f42",
   "metadata": {},
   "outputs": [
    {
     "data": {
      "application/vnd.jupyter.widget-view+json": {
       "model_id": "4b33cedfc4f34ec48c3a355c120f2c63",
       "version_major": 2,
       "version_minor": 1
      },
      "text/plain": [
       "Cosmograph(background_color=None, components_display_state_mode=None, focused_point_ring_color=None, hovered_p…"
      ]
     },
     "execution_count": 6,
     "metadata": {},
     "output_type": "execute_result"
    }
   ],
   "source": [
    "cosmo(\n",
    "    data,\n",
    "    point_x_by=\"umap_x\",\n",
    "    point_y_by=\"umap_y\",\n",
    "    point_color_by=\"acousticness\",\n",
    "    point_size_by=\"energy\",\n",
    "    point_label_by=\"artist_name\",\n",
    "    point_size_scale=2.5,\n",
    "    show_dynamic_labels=True,\n",
    ")\n"
   ]
  },
  {
   "cell_type": "markdown",
   "id": "29f88d16",
   "metadata": {},
   "source": [
    "### Tonal Brightness and Tempo Map (t-SNE projection)\n",
    "\n",
    "- t-SNE embedding of song embeddings\n",
    "- X: `tsne_x`, Y: `tsne_y`\n",
    "- Color by `key_mode` (e.g., “C major”, “F minor”)\n",
    "- Size by `tempo`\n",
    "- Label by `track_name`\n"
   ]
  },
  {
   "cell_type": "code",
   "execution_count": 7,
   "id": "a7e225d6",
   "metadata": {},
   "outputs": [
    {
     "data": {
      "application/vnd.jupyter.widget-view+json": {
       "model_id": "d7b1b10e63ae403eabc750fa4fbfad9c",
       "version_major": 2,
       "version_minor": 1
      },
      "text/plain": [
       "Cosmograph(background_color=None, components_display_state_mode=None, focused_point_ring_color=None, hovered_p…"
      ]
     },
     "execution_count": 7,
     "metadata": {},
     "output_type": "execute_result"
    }
   ],
   "source": [
    "cosmo(\n",
    "    data,\n",
    "    point_x_by=\"tsne_x\",\n",
    "    point_y_by=\"tsne_y\",\n",
    "    point_color_by=\"key_mode\",\n",
    "    point_size_by=\"tempo\",\n",
    "    point_label_by=\"track_name\",\n",
    "    point_size_scale=0.5,\n",
    "    show_dynamic_labels=True,\n",
    ")\n"
   ]
  },
  {
   "cell_type": "code",
   "execution_count": null,
   "id": "56eb042d",
   "metadata": {},
   "outputs": [],
   "source": []
  },
  {
   "cell_type": "code",
   "execution_count": null,
   "id": "69a7c005",
   "metadata": {},
   "outputs": [],
   "source": []
  }
 ],
 "metadata": {
  "kernelspec": {
   "display_name": "Python 3 (ipykernel)",
   "language": "python",
   "name": "python3"
  },
  "language_info": {
   "codemirror_mode": {
    "name": "ipython",
    "version": 3
   },
   "file_extension": ".py",
   "mimetype": "text/x-python",
   "name": "python",
   "nbconvert_exporter": "python",
   "pygments_lexer": "ipython3",
   "version": "3.12.12"
  }
 },
 "nbformat": 4,
 "nbformat_minor": 5
}
