{
 "cells": [
  {
   "cell_type": "markdown",
   "id": "59944d09",
   "metadata": {},
   "source": "### LMSys Chat Conversations Dataset\n- **Description:** Conversations from AI chat systems.\n- **Data Source:** [lmsys_with_planar_embeddings_pca500.parquet](https://www.dropbox.com/scl/fi/nqjg3dtaapjhjg0bloxj5/lmsys_with_planar_embeddings_pca500.parquet?rlkey=igepv3cfq9gaczztdc7bp1mb7&dl=1)\n  - **Potential columns for visualization:**\n    - **X & Y Coordinates:** `x_umap`, `y_umap`\n    - **Point Size:** `num_of_tokens`\n    - **Color:** `model`\n    - **Label:** `content`\n  - **Related code file:** [lmsys_ai_conversations.py](https://github.com/thorwhalen/imbed_data_prep/blob/main/imbed_data_prep/lmsys_ai_conversations.py)"
  },
  {
   "cell_type": "markdown",
   "id": "de8a861b",
   "metadata": {},
   "source": "## Get data"
  },
  {
   "cell_type": "markdown",
   "id": "fb4bf3e6",
   "metadata": {},
   "source": "### Data parameters"
  },
  {
   "cell_type": "code",
   "execution_count": null,
   "id": "aa4fc468",
   "metadata": {},
   "outputs": [],
   "source": "ext = '.parquet'\nsrc = 'https://www.dropbox.com/scl/fi/nqjg3dtaapjhjg0bloxj5/lmsys_with_planar_embeddings_pca500.parquet?rlkey=igepv3cfq9gaczztdc7bp1mb7&dl=1'\ntarget_filename = 'lmsys_with_planar_embeddings_pca500.parquet'"
  },
  {
   "cell_type": "markdown",
   "id": "12f9f1f0",
   "metadata": {},
   "source": "### Install and import"
  },
  {
   "cell_type": "code",
   "execution_count": null,
   "id": "131829fd",
   "metadata": {},
   "outputs": [],
   "source": "import os\nif not os.getenv('IN_COSMO_DEV_ENV'):\n    %pip install -q cosmograph tabled cosmodata\n\nimport tabled\nimport cosmodata\n\nfrom functools import partial \nfrom cosmograph import cosmo"
  },
  {
   "cell_type": "markdown",
   "id": "db9323d0",
   "metadata": {},
   "source": "### Load data"
  },
  {
   "cell_type": "code",
   "execution_count": null,
   "id": "ad1059e1",
   "metadata": {},
   "outputs": [],
   "source": "if ext:\n    getter = partial(tabled.get_table, ext=ext)\nelse:\n    getter = tabled.get_table\n# acquire_data takes care of caching locally too, so next time access will be faster\n# (If you want a fresh copy, you can delete the local cache file manually.)\ndata = cosmodata.acquire_data(src, target_filename, getter=getter)"
  },
  {
   "cell_type": "markdown",
   "id": "9683531b",
   "metadata": {},
   "source": "## Peep at the data"
  },
  {
   "cell_type": "code",
   "execution_count": null,
   "id": "4d18de91",
   "metadata": {},
   "outputs": [],
   "source": "mode = 'short'  #Literal['short', 'sample', 'stats'] = 'short',\nexclude_cols = []\ncosmodata.print_dataframe_info(data, exclude_cols, mode=mode)"
  },
  {
   "cell_type": "markdown",
   "id": "7fdf7a0d",
   "metadata": {},
   "source": "## Visualize data"
  },
  {
   "cell_type": "code",
   "execution_count": null,
   "id": "389d6f4b",
   "metadata": {},
   "outputs": [],
   "source": ""
  },
  {
   "cell_type": "code",
   "execution_count": null,
   "id": "04d5e28a",
   "metadata": {},
   "outputs": [],
   "source": ""
  },
  {
   "cell_type": "code",
   "execution_count": null,
   "id": "9d0d6233",
   "metadata": {},
   "outputs": [],
   "source": ""
  },
  {
   "cell_type": "code",
   "execution_count": null,
   "id": "2534697c",
   "metadata": {},
   "outputs": [],
   "source": ""
  },
  {
   "cell_type": "code",
   "execution_count": null,
   "id": "4e9a7e8b",
   "metadata": {},
   "outputs": [],
   "source": ""
  }
 ],
 "metadata": {
  "kernelspec": {
   "display_name": "Python 3",
   "language": "python",
   "name": "python3"
  },
  "language_info": {
   "codemirror_mode": {
    "name": "ipython",
    "version": 3
   },
   "file_extension": ".py",
   "mimetype": "text/x-python",
   "name": "python",
   "nbconvert_exporter": "python",
   "pygments_lexer": "ipython3",
   "version": "3.12.0"
  }
 },
 "nbformat": 4,
 "nbformat_minor": 5
}