{
 "cells": [
  {
   "cell_type": "markdown",
   "id": "296d3aae",
   "metadata": {},
   "source": [
    "### EuroVis Dataset\n",
    "- **Raw Data:** Academic publications metadata from the EuroVis conference, including titles, abstracts, authors, and awards.\n",
    "- **Prepared Data:** [merged_artifacts.parquet](https://www.dropbox.com/scl/fi/i285q892wjmm6f9oak41g/merged_artifacts.parquet?rlkey=1y32rk8uzbiet9u18no760jad&dl=1) (5599 rows, 18 columns)\n",
    "  - **Potential columns for visualization:**\n",
    "    - **X & Y Coordinates:** `x`, `y`\n",
    "    - **Point Size:** `n_tokens` (number of tokens in the abstract)\n",
    "    - **Color:** Cluster labels (`cluster_05`, `cluster_08`, etc.)\n",
    "    - **Label:** `title`\n",
    "  - **Related code file:** [eurovis.py](https://github.com/thorwhalen/imbed_data_prep/blob/main/imbed_data_prep/eurovis.py)"
   ]
  },
  {
   "cell_type": "markdown",
   "id": "0c0e78f9",
   "metadata": {},
   "source": [
    "## Get data"
   ]
  },
  {
   "cell_type": "markdown",
   "id": "84ce0523",
   "metadata": {},
   "source": [
    "### Data parameters"
   ]
  },
  {
   "cell_type": "code",
   "execution_count": 2,
   "id": "a537ff71",
   "metadata": {},
   "outputs": [],
   "source": [
    "ext = '.parquet'\n",
    "src = 'https://www.dropbox.com/scl/fi/i285q892wjmm6f9oak41g/merged_artifacts.parquet?rlkey=1y32rk8uzbiet9u18no760jad&dl=1'\n",
    "target_filename = 'eurovis_merged_artifacts.parquet'"
   ]
  },
  {
   "cell_type": "markdown",
   "id": "d2d734b6",
   "metadata": {},
   "source": [
    "### Install and import"
   ]
  },
  {
   "cell_type": "code",
   "execution_count": 3,
   "id": "66721ed9",
   "metadata": {},
   "outputs": [],
   "source": [
    "import os\n",
    "if not os.getenv('IN_COSMO_DEV_ENV'):\n",
    "    %pip install -q cosmograph tabled cosmodata\n",
    "\n",
    "import tabled\n",
    "import cosmodata\n",
    "\n",
    "from functools import partial \n",
    "from cosmograph import cosmo\n"
   ]
  },
  {
   "cell_type": "markdown",
   "id": "d48cf76b",
   "metadata": {},
   "source": [
    "### Load data"
   ]
  },
  {
   "cell_type": "code",
   "execution_count": 4,
   "id": "39635b75",
   "metadata": {},
   "outputs": [],
   "source": [
    "if ext:\n",
    "    getter = partial(tabled.get_table, ext=ext)\n",
    "else:\n",
    "    getter = tabled.get_table\n",
    "# acquire_data takes care of caching locally too, so next time access will be faster\n",
    "# (If you want a fresh copy, you can delete the local cache file manually.)\n",
    "data = cosmodata.acquire_data(src, target_filename, getter=getter)"
   ]
  },
  {
   "cell_type": "markdown",
   "id": "87edb0e3",
   "metadata": {},
   "source": [
    "## Peep at the data"
   ]
  },
  {
   "cell_type": "code",
   "execution_count": 5,
   "id": "30021adb",
   "metadata": {},
   "outputs": [
    {
     "name": "stdout",
     "output_type": "stream",
     "text": [
      "DataFrame shape: (5599, 18)\n",
      "First row\n",
      "------------------------------------------------------------\n",
      "conference                                                      EuroVis\n",
      "year                                                               2024\n",
      "title                 A Prediction-Traversal Approach for Compressin...\n",
      "doi                                                   10.1111/cgf.15097\n",
      "abstract              We explore an error-bounded lossy compression ...\n",
      "authorNamesDeduped           Congrong Ren;Xin Liang 0001;Hanqi Guo 0001\n",
      "award                                                              None\n",
      "resources                                                             P\n",
      "link                     https://vispubs.com/?paper=10.1111%2Fcgf.15097\n",
      "segment               ##A Prediction-Traversal Approach for Compress...\n",
      "n_tokens                                                            318\n",
      "x                                                            -16.307396\n",
      "y                                                            -14.705571\n",
      "cluster_05                                                            4\n",
      "cluster_08                                                            7\n",
      "cluster_13                                                           12\n",
      "cluster_21                                                           16\n",
      "cluster_34                                                           30\n"
     ]
    }
   ],
   "source": [
    "mode = 'short'  #Literal['short', 'sample', 'stats'] = 'short',\n",
    "exclude_cols = []\n",
    "cosmodata.print_dataframe_info(data, exclude_cols, mode=mode)"
   ]
  },
  {
   "cell_type": "markdown",
   "id": "c783105b",
   "metadata": {},
   "source": [
    "## Visualize data"
   ]
  },
  {
   "cell_type": "code",
   "execution_count": null,
   "id": "d88b171d",
   "metadata": {},
   "outputs": [],
   "source": []
  },
  {
   "cell_type": "code",
   "execution_count": null,
   "id": "aa2284eb",
   "metadata": {},
   "outputs": [],
   "source": []
  },
  {
   "cell_type": "code",
   "execution_count": null,
   "id": "ee7f8571",
   "metadata": {},
   "outputs": [],
   "source": []
  },
  {
   "cell_type": "code",
   "execution_count": null,
   "id": "aec1605e",
   "metadata": {},
   "outputs": [],
   "source": []
  },
  {
   "cell_type": "code",
   "execution_count": null,
   "id": "babf0e74",
   "metadata": {},
   "outputs": [],
   "source": []
  }
 ],
 "metadata": {
  "kernelspec": {
   "display_name": "p12",
   "language": "python",
   "name": "python3"
  },
  "language_info": {
   "codemirror_mode": {
    "name": "ipython",
    "version": 3
   },
   "file_extension": ".py",
   "mimetype": "text/x-python",
   "name": "python",
   "nbconvert_exporter": "python",
   "pygments_lexer": "ipython3",
   "version": "3.12.12"
  }
 },
 "nbformat": 4,
 "nbformat_minor": 5
}
