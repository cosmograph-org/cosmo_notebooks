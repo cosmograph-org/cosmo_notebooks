{
 "cells": [
  {
   "cell_type": "markdown",
   "id": "0820d809",
   "metadata": {},
   "source": [
    "### Prompt Injections Dataset\n",
    "- **Description:** Data related to prompt injection attacks and defenses.\n",
    "- **Data Source:** [prompt_injection_w_umap_embeddings.tsv](https://www.dropbox.com/scl/fi/88lky7ogiugfkngzo8blq/prompt_injection_w_umap_embeddings.tsv?rlkey=6f1tfws5oswvzska29l1l4l2i&dl=1)\n",
    "  - **Potential columns for visualization:**\n",
    "    - **X & Y Coordinates:** `x`, `y`\n",
    "    - **Point Size:** `size`\n",
    "    - **Color:** `label`\n",
    "    - **Label:** `text`\n",
    "  - **Related code file:** [prompt_injections.py](https://github.com/thorwhalen/imbed_data_prep/blob/main/imbed_data_prep/prompt_injections.py)"
   ]
  },
  {
   "cell_type": "markdown",
   "id": "134cb29f",
   "metadata": {},
   "source": [
    "## Get data"
   ]
  },
  {
   "cell_type": "markdown",
   "id": "e2674988",
   "metadata": {},
   "source": [
    "### Data parameters"
   ]
  },
  {
   "cell_type": "code",
   "execution_count": 1,
   "id": "5009f313",
   "metadata": {},
   "outputs": [],
   "source": [
    "ext = '.tsv'\n",
    "src = 'https://www.dropbox.com/scl/fi/88lky7ogiugfkngzo8blq/prompt_injection_w_umap_embeddings.tsv?rlkey=6f1tfws5oswvzska29l1l4l2i&dl=1'\n",
    "target_filename = 'prompt_injection_w_umap_embeddings.tsv'"
   ]
  },
  {
   "cell_type": "markdown",
   "id": "346afeb9",
   "metadata": {},
   "source": [
    "### Install and import"
   ]
  },
  {
   "cell_type": "code",
   "execution_count": 2,
   "id": "6213f4a4",
   "metadata": {},
   "outputs": [],
   "source": [
    "import os\n",
    "if not os.getenv('IN_COSMO_DEV_ENV'):\n",
    "    %pip install -q cosmograph tabled cosmodata\n",
    "\n",
    "import tabled\n",
    "import cosmodata\n",
    "\n",
    "from functools import partial \n",
    "from cosmograph import cosmo"
   ]
  },
  {
   "cell_type": "markdown",
   "id": "1e38e186",
   "metadata": {},
   "source": [
    "### Load data"
   ]
  },
  {
   "cell_type": "code",
   "execution_count": 3,
   "id": "1b97ed93",
   "metadata": {},
   "outputs": [
    {
     "name": "stdout",
     "output_type": "stream",
     "text": [
      "Fetching data from https://www.dropbox.com/scl/fi/88lky7ogiugfkngzo8blq/prompt_injection_w_umap_embeddings.tsv?rlkey=6f1tfws5oswvzska29l1l4l2i&dl=1...\n",
      "Data cached at: /Users/thorwhalen/.local/share/cosmodata/datasets/prompt_injection_w_umap_embeddings.tsv.pkl\n"
     ]
    }
   ],
   "source": [
    "if ext:\n",
    "    getter = partial(tabled.get_table, ext=ext)\n",
    "else:\n",
    "    getter = tabled.get_table\n",
    "# acquire_data takes care of caching locally too, so next time access will be faster\n",
    "# (If you want a fresh copy, you can delete the local cache file manually.)\n",
    "data = cosmodata.acquire_data(src, target_filename, getter=getter)"
   ]
  },
  {
   "cell_type": "markdown",
   "id": "84f46b27",
   "metadata": {},
   "source": [
    "## Peep at the data"
   ]
  },
  {
   "cell_type": "code",
   "execution_count": 4,
   "id": "eea39afd",
   "metadata": {},
   "outputs": [
    {
     "name": "stdout",
     "output_type": "stream",
     "text": [
      "DataFrame shape: (662, 6)\n",
      "First row\n",
      "------------------------------------------------------------\n",
      "text     Refugee crisis in Europe solutions\n",
      "label                                     0\n",
      "x                                  8.972539\n",
      "y                                   1.02286\n",
      "id                                        0\n",
      "size                                     34\n"
     ]
    }
   ],
   "source": [
    "mode = 'short'  #Literal['short', 'sample', 'stats'] = 'short',\n",
    "exclude_cols = []\n",
    "cosmodata.print_dataframe_info(data, exclude_cols, mode=mode)"
   ]
  },
  {
   "cell_type": "markdown",
   "id": "a9736790",
   "metadata": {},
   "source": [
    "## Visualize data"
   ]
  },
  {
   "cell_type": "markdown",
   "id": "e7c5f11e",
   "metadata": {},
   "source": [
    "### Scatter Plot of Points\n",
    "\n",
    "This visualization represents a scatter plot where each point corresponds to a row in the provided DataFrame. The X and Y coordinates are mapped to the columns `x` and `y`, respectively, to represent their position in a 2D space. Each point's size is determined by the `size` column, and colors are assigned based on the `label` column, allowing for easy identification of patterns or groups among the points."
   ]
  },
  {
   "cell_type": "code",
   "execution_count": 16,
   "id": "6233d07c",
   "metadata": {},
   "outputs": [
    {
     "data": {
      "application/vnd.jupyter.widget-view+json": {
       "model_id": "050b4655db7d416288ef7b74aa81942a",
       "version_major": 2,
       "version_minor": 1
      },
      "text/plain": [
       "Cosmograph(background_color='#222222', components_display_state_mode=None, fit_view_on_init=True, focused_poin…"
      ]
     },
     "execution_count": 16,
     "metadata": {},
     "output_type": "execute_result"
    }
   ],
   "source": [
    "cosmo(\n",
    "    data,\n",
    "    point_x_by=\"x\",\n",
    "    point_y_by=\"y\",\n",
    "    point_size_by=\"size\",\n",
    "    point_color_by=\"label\",\n",
    "    point_id_by=\"id\",\n",
    "    point_label_by=\"text\",\n",
    "    point_color_palette=[\"#ff0000\", \"#00ff00\", \"#0000ff\"],\n",
    "    point_size_range=[5, 25],\n",
    "    point_greyout_opacity=0.1,\n",
    "    # point_size_scale=2,\n",
    "    show_labels=True,\n",
    "    show_hovered_point_label=True,\n",
    "    background_color=\"#222222\",\n",
    "    fit_view_on_init=True,\n",
    ")"
   ]
  },
  {
   "cell_type": "code",
   "execution_count": null,
   "id": "fd07bfe8",
   "metadata": {},
   "outputs": [],
   "source": []
  },
  {
   "cell_type": "code",
   "execution_count": null,
   "id": "2f3b0dc9",
   "metadata": {},
   "outputs": [],
   "source": []
  },
  {
   "cell_type": "code",
   "execution_count": null,
   "id": "c7102733",
   "metadata": {},
   "outputs": [],
   "source": []
  }
 ],
 "metadata": {
  "kernelspec": {
   "display_name": "p12",
   "language": "python",
   "name": "python3"
  },
  "language_info": {
   "codemirror_mode": {
    "name": "ipython",
    "version": 3
   },
   "file_extension": ".py",
   "mimetype": "text/x-python",
   "name": "python",
   "nbconvert_exporter": "python",
   "pygments_lexer": "ipython3",
   "version": "3.12.12"
  }
 },
 "nbformat": 4,
 "nbformat_minor": 5
}
