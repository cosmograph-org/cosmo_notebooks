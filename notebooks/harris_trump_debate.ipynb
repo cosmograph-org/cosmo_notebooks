{
 "cells": [
  {
   "cell_type": "markdown",
   "id": "28c629db",
   "metadata": {},
   "source": [
    "### Harris vs Trump Debate Dataset\n",
    "- **Description:** Transcript of a political debate between Kamala Harris and Donald Trump.\n",
    "- **Data Source:** [harris_vs_trump_debate_with_extras.parquet](https://www.dropbox.com/scl/fi/tp551hfzo5xp20urs7b8x/harris_vs_trump_debate_with_extras.parquet?rlkey=4gep2vn60vv3wx5q11iq6hc3j&dl=1)\n",
    "  - **Potential columns for visualization:**\n",
    "    - **X & Y Coordinates:** `tsne__x`, `tsne__y`, `pca__x`, `pca__y`\n",
    "    - **Point Size:** `certainty`\n",
    "    - **Color:** `speaker_color`\n",
    "    - **Label:** `text`"
   ]
  },
  {
   "cell_type": "markdown",
   "id": "87a0ec2c",
   "metadata": {},
   "source": [
    "## Get data"
   ]
  },
  {
   "cell_type": "markdown",
   "id": "4dbd7ff7",
   "metadata": {},
   "source": [
    "### Data parameters"
   ]
  },
  {
   "cell_type": "code",
   "execution_count": 1,
   "id": "cb4e5fcf",
   "metadata": {},
   "outputs": [],
   "source": [
    "ext = '.parquet'\n",
    "src = 'https://www.dropbox.com/scl/fi/tp551hfzo5xp20urs7b8x/harris_vs_trump_debate_with_extras.parquet?rlkey=4gep2vn60vv3wx5q11iq6hc3j&dl=1'\n",
    "target_filename = 'harris_vs_trump_debate_with_extras.parquet'"
   ]
  },
  {
   "cell_type": "markdown",
   "id": "d3ffb3d3",
   "metadata": {},
   "source": [
    "### Install and import"
   ]
  },
  {
   "cell_type": "code",
   "execution_count": 2,
   "id": "6a55c79a",
   "metadata": {},
   "outputs": [],
   "source": [
    "import os\n",
    "if not os.getenv('IN_COSMO_DEV_ENV'):\n",
    "    %pip install -q cosmograph tabled cosmodata\n",
    "\n",
    "import tabled\n",
    "import cosmodata\n",
    "\n",
    "from functools import partial \n",
    "from cosmograph import cosmo"
   ]
  },
  {
   "cell_type": "markdown",
   "id": "13860e3b",
   "metadata": {},
   "source": [
    "### Load data"
   ]
  },
  {
   "cell_type": "code",
   "execution_count": 3,
   "id": "c9d3d691",
   "metadata": {},
   "outputs": [
    {
     "name": "stdout",
     "output_type": "stream",
     "text": [
      "Fetching data from https://www.dropbox.com/scl/fi/tp551hfzo5xp20urs7b8x/harris_vs_trump_debate_with_extras.parquet?rlkey=4gep2vn60vv3wx5q11iq6hc3j&dl=1...\n",
      "Data cached at: /Users/thorwhalen/.local/share/cosmodata/datasets/harris_vs_trump_debate_with_extras.parquet.pkl\n"
     ]
    }
   ],
   "source": [
    "if ext:\n",
    "    getter = partial(tabled.get_table, ext=ext)\n",
    "else:\n",
    "    getter = tabled.get_table\n",
    "# acquire_data takes care of caching locally too, so next time access will be faster\n",
    "# (If you want a fresh copy, you can delete the local cache file manually.)\n",
    "data = cosmodata.acquire_data(src, target_filename, getter=getter)"
   ]
  },
  {
   "cell_type": "markdown",
   "id": "a3c9d506",
   "metadata": {},
   "source": [
    "## Peep at the data"
   ]
  },
  {
   "cell_type": "code",
   "execution_count": 4,
   "id": "fab82da2",
   "metadata": {},
   "outputs": [
    {
     "name": "stdout",
     "output_type": "stream",
     "text": [
      "DataFrame shape: (1141, 20)\n",
      "First row\n",
      "------------------------------------------------------------\n",
      "id                                                                     14\n",
      "speaker                                                     KAMALA HARRIS\n",
      "text                               So, I was raised as a middle-class kid\n",
      "topic                                                             economy\n",
      "token                   ['so', 'be', 'raise', 'a', 'middle-class', 'kid']\n",
      "polarity                                                              0.0\n",
      "subjectivity                                                          0.0\n",
      "certainty                                                             1.0\n",
      "pca__x                                                          -0.143514\n",
      "pca__y                                                           0.135135\n",
      "random_projection__x                                            -1.130084\n",
      "random_projection__y                                              1.32939\n",
      "tsne__x                                                        -36.573841\n",
      "tsne__y                                                         16.835093\n",
      "kernel_pca__x                                                   -0.005177\n",
      "kernel_pca__y                                                   -0.004871\n",
      "_index                                                                  0\n",
      "speaker_id                                                              0\n",
      "speaker_color                                                        blue\n",
      "topic_id                                                                0\n"
     ]
    }
   ],
   "source": [
    "mode = 'short'  #Literal['short', 'sample', 'stats'] = 'short',\n",
    "exclude_cols = []\n",
    "cosmodata.print_dataframe_info(data, exclude_cols, mode=mode)"
   ]
  },
  {
   "cell_type": "markdown",
   "id": "7c9706c4",
   "metadata": {},
   "source": [
    "## Visualize data"
   ]
  },
  {
   "cell_type": "markdown",
   "id": "1cd7a594",
   "metadata": {},
   "source": [
    "### PCA Visualization of Speakers\n",
    "\n",
    "This visualization shows the distribution of speakers in the PCA space. The X and Y coordinates are derived from the PCA-reduced dimensions. The points are colored based on the speaker's assigned color. The size of the points can represent subjectivity or certainty, giving additional insight into the data dynamics."
   ]
  },
  {
   "cell_type": "code",
   "execution_count": 5,
   "id": "68a5a1e1",
   "metadata": {},
   "outputs": [
    {
     "data": {
      "application/vnd.jupyter.widget-view+json": {
       "model_id": "a6e6aa4b38b04ca0957505762c914670",
       "version_major": 2,
       "version_minor": 1
      },
      "text/plain": [
       "Cosmograph(background_color=None, components_display_state_mode=None, focused_point_ring_color=None, hovered_p…"
      ]
     },
     "execution_count": 5,
     "metadata": {},
     "output_type": "execute_result"
    }
   ],
   "source": [
    "cosmo(\n",
    "    data,\n",
    "    point_x_by=\"pca__x\",\n",
    "    point_y_by=\"pca__y\",\n",
    "    point_color_by=\"speaker_color\",\n",
    "    point_size_by=\"subjectivity\",\n",
    "    point_id_by=\"id\",\n",
    "    point_label_by=\"speaker\",\n",
    "    point_color_palette=[\"red\", \"blue\", \"green\", \"orange\"],\n",
    "    point_size_range=[2, 10],\n",
    "    point_size_scale=3,\n",
    ")"
   ]
  },
  {
   "cell_type": "markdown",
   "id": "aed4380e",
   "metadata": {},
   "source": [
    "### t-SNE Visualization of Topics\n",
    "\n",
    "This graph visualizes how topics cluster in the t-SNE reduced space, providing insight into how similar topics are represented. Points represent individual instances of text linked to topics, with color indicating different topics and size reflecting their certainty in sentiment analysis."
   ]
  },
  {
   "cell_type": "code",
   "execution_count": 6,
   "id": "e1e93ee4",
   "metadata": {},
   "outputs": [
    {
     "data": {
      "application/vnd.jupyter.widget-view+json": {
       "model_id": "03e0c20a9af04562939cdf7e9b8f3780",
       "version_major": 2,
       "version_minor": 1
      },
      "text/plain": [
       "Cosmograph(background_color=None, components_display_state_mode=None, focused_point_ring_color=None, hovered_p…"
      ]
     },
     "execution_count": 6,
     "metadata": {},
     "output_type": "execute_result"
    }
   ],
   "source": [
    "cosmo(\n",
    "    data,\n",
    "    point_x_by=\"tsne__x\",\n",
    "    point_y_by=\"tsne__y\",\n",
    "    point_color_by=\"topic_id\",\n",
    "    point_size_by=\"certainty\",\n",
    "    point_id_by=\"id\",\n",
    "    point_label_by=\"topic\",\n",
    "    point_color_palette=[\"#FF9999\", \"#99FF99\", \"#9999FF\"],\n",
    "    point_size_range=[1, 8],\n",
    "    point_size_scale=1,\n",
    ")"
   ]
  },
  {
   "cell_type": "markdown",
   "id": "98208e12",
   "metadata": {},
   "source": [
    "### Random Projection Visualization\n",
    "\n",
    "This visualization represents the distribution of data points in the Random Projection space, allowing us to see how well the data preserves distances between points. Each point is color-coded by the topic it relates to, and their size can indicate the polarity of the sentiment."
   ]
  },
  {
   "cell_type": "code",
   "execution_count": 7,
   "id": "7961a6b5",
   "metadata": {},
   "outputs": [
    {
     "data": {
      "application/vnd.jupyter.widget-view+json": {
       "model_id": "ee22e973893e4aa2a156e3437164b35a",
       "version_major": 2,
       "version_minor": 1
      },
      "text/plain": [
       "Cosmograph(background_color=None, components_display_state_mode=None, focused_point_ring_color=None, hovered_p…"
      ]
     },
     "execution_count": 7,
     "metadata": {},
     "output_type": "execute_result"
    }
   ],
   "source": [
    "cosmo(\n",
    "    data,\n",
    "    point_x_by=\"random_projection__x\",\n",
    "    point_y_by=\"random_projection__y\",\n",
    "    point_color_by=\"topic_id\",\n",
    "    point_size_by=\"polarity\",\n",
    "    point_id_by=\"id\",\n",
    "    point_label_by=\"speaker\",\n",
    "    point_color_palette=[\"purple\", \"aqua\", \"yellow\"],\n",
    "    point_size_range=[1, 10],\n",
    "    point_size_scale=2,\n",
    ")"
   ]
  },
  {
   "cell_type": "code",
   "execution_count": null,
   "id": "fc22ddd6",
   "metadata": {},
   "outputs": [],
   "source": []
  },
  {
   "cell_type": "code",
   "execution_count": null,
   "id": "d563f760",
   "metadata": {},
   "outputs": [],
   "source": []
  }
 ],
 "metadata": {
  "kernelspec": {
   "display_name": "p12",
   "language": "python",
   "name": "python3"
  },
  "language_info": {
   "codemirror_mode": {
    "name": "ipython",
    "version": 3
   },
   "file_extension": ".py",
   "mimetype": "text/x-python",
   "name": "python",
   "nbconvert_exporter": "python",
   "pygments_lexer": "ipython3",
   "version": "3.12.12"
  }
 },
 "nbformat": 4,
 "nbformat_minor": 5
}
