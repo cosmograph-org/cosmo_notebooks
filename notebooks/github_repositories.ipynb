{
 "cells": [
  {
   "cell_type": "markdown",
   "id": "99a046dd",
   "metadata": {},
   "source": [
    "### GitHub Repositories Dataset\n",
    "- **Description:** GitHub repository metadata including stars, forks, programming languages, and repository descriptions.\n",
    "- **Data Source:** [github_repo_for_cosmos.parquet](https://www.dropbox.com/scl/fi/kgdvp6dmp8ppnnmjabjzl/github_repo_for_cosmos.parquet?rlkey=dma2zk9uuzsctsjfevjumbrdg&dl=1)\n",
    "  - **Potential columns for visualization:**\n",
    "    - **X & Y Coordinates:** `x`, `y`\n",
    "    - **Point Size:** `stars` (star count), `forks`\n",
    "    - **Color:** `primaryLanguage`\n",
    "    - **Label:** `nameWithOwner`\n",
    "  - **Related code file:** [github_repos.py](https://github.com/thorwhalen/imbed_data_prep/blob/main/imbed_data_prep/github_repos.py)"
   ]
  },
  {
   "cell_type": "markdown",
   "id": "a7feb007",
   "metadata": {},
   "source": [
    "## Get data"
   ]
  },
  {
   "cell_type": "markdown",
   "id": "d6508cf6",
   "metadata": {},
   "source": [
    "### Data parameters"
   ]
  },
  {
   "cell_type": "code",
   "execution_count": null,
   "id": "aca2cd2f",
   "metadata": {},
   "outputs": [],
   "source": [
    "ext = '.parquet'\n",
    "src = 'https://www.dropbox.com/scl/fi/kgdvp6dmp8ppnnmjabjzl/github_repo_for_cosmos.parquet?rlkey=dma2zk9uuzsctsjfevjumbrdg&dl=1'\n",
    "target_filename = 'github_repo_for_cosmos.parquet'"
   ]
  },
  {
   "cell_type": "markdown",
   "id": "5a82a0cf",
   "metadata": {},
   "source": [
    "### Install and import"
   ]
  },
  {
   "cell_type": "code",
   "execution_count": null,
   "id": "c7c046e7",
   "metadata": {},
   "outputs": [],
   "source": [
    "import os\n",
    "if not os.getenv('IN_COSMO_DEV_ENV'):\n",
    "    %pip install -q cosmograph tabled cosmodata\n",
    "\n",
    "import tabled\n",
    "import cosmodata\n",
    "\n",
    "from functools import partial \n",
    "from cosmograph import cosmo"
   ]
  },
  {
   "cell_type": "markdown",
   "id": "50d2a9fe",
   "metadata": {},
   "source": [
    "### Load data"
   ]
  },
  {
   "cell_type": "code",
   "execution_count": null,
   "id": "b538d229",
   "metadata": {},
   "outputs": [],
   "source": [
    "if ext:\n",
    "    getter = partial(tabled.get_table, ext=ext)\n",
    "else:\n",
    "    getter = tabled.get_table\n",
    "# acquire_data takes care of caching locally too, so next time access will be faster\n",
    "# (If you want a fresh copy, you can delete the local cache file manually.)\n",
    "data = cosmodata.acquire_data(src, target_filename, getter=getter)"
   ]
  },
  {
   "cell_type": "markdown",
   "id": "dfdf79f5",
   "metadata": {},
   "source": [
    "## Peep at the data"
   ]
  },
  {
   "cell_type": "code",
   "execution_count": null,
   "id": "6dbd5025",
   "metadata": {},
   "outputs": [],
   "source": [
    "mode = 'short'  #Literal['short', 'sample', 'stats'] = 'short',\n",
    "exclude_cols = []\n",
    "cosmodata.print_dataframe_info(data, exclude_cols, mode=mode)"
   ]
  },
  {
   "cell_type": "markdown",
   "id": "849935ee",
   "metadata": {},
   "source": [
    "## Visualize data"
   ]
  },
  {
   "cell_type": "code",
   "execution_count": null,
   "id": "a7a18d9b",
   "metadata": {},
   "outputs": [],
   "source": []
  },
  {
   "cell_type": "code",
   "execution_count": null,
   "id": "015fcb57",
   "metadata": {},
   "outputs": [],
   "source": []
  },
  {
   "cell_type": "code",
   "execution_count": null,
   "id": "68f4338f",
   "metadata": {},
   "outputs": [],
   "source": []
  },
  {
   "cell_type": "code",
   "execution_count": null,
   "id": "ea6798be",
   "metadata": {},
   "outputs": [],
   "source": []
  },
  {
   "cell_type": "code",
   "execution_count": null,
   "id": "b6dcfa29",
   "metadata": {},
   "outputs": [],
   "source": []
  }
 ],
 "metadata": {
  "kernelspec": {
   "display_name": "Python 3",
   "language": "python",
   "name": "python3"
  },
  "language_info": {
   "codemirror_mode": {
    "name": "ipython",
    "version": 3
   },
   "file_extension": ".py",
   "mimetype": "text/x-python",
   "name": "python",
   "nbconvert_exporter": "python",
   "pygments_lexer": "ipython3",
   "version": "3.12.0"
  }
 },
 "nbformat": 4,
 "nbformat_minor": 5
}
