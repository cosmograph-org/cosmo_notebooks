{
 "cells": [
  {
   "cell_type": "markdown",
   "id": "99a046dd",
   "metadata": {},
   "source": [
    "### GitHub Repositories Dataset\n",
    "- **Description:** GitHub repository metadata including stars, forks, programming languages, and repository descriptions.\n",
    "- **Data Source:** [github_repo_for_cosmos.parquet](https://www.dropbox.com/scl/fi/kgdvp6dmp8ppnnmjabjzl/github_repo_for_cosmos.parquet?rlkey=dma2zk9uuzsctsjfevjumbrdg&dl=1)\n",
    "  - **Potential columns for visualization:**\n",
    "    - **X & Y Coordinates:** `x`, `y`\n",
    "    - **Point Size:** `stars` (star count), `forks`\n",
    "    - **Color:** `primaryLanguage`\n",
    "    - **Label:** `nameWithOwner`\n",
    "  - **Related code file:** [github_repos.py](https://github.com/thorwhalen/imbed_data_prep/blob/main/imbed_data_prep/github_repos.py)"
   ]
  },
  {
   "cell_type": "markdown",
   "id": "a7feb007",
   "metadata": {},
   "source": [
    "## Get data"
   ]
  },
  {
   "cell_type": "markdown",
   "id": "d6508cf6",
   "metadata": {},
   "source": [
    "### Data parameters"
   ]
  },
  {
   "cell_type": "code",
   "execution_count": 7,
   "id": "aca2cd2f",
   "metadata": {},
   "outputs": [],
   "source": [
    "ext = '.parquet'\n",
    "src = 'https://www.dropbox.com/scl/fi/4oidj0wigc1ukjamk34tm/github_repositories.parquet?rlkey=z1zqgef8o1pf2bcxwsryxwnkg&dl=1'\n",
    "target_filename = 'github_repositories.parquet'"
   ]
  },
  {
   "cell_type": "markdown",
   "id": "5a82a0cf",
   "metadata": {},
   "source": [
    "### Install and import"
   ]
  },
  {
   "cell_type": "code",
   "execution_count": 8,
   "id": "c7c046e7",
   "metadata": {},
   "outputs": [],
   "source": [
    "import os\n",
    "if not os.getenv('IN_COSMO_DEV_ENV'):\n",
    "    %pip install -q cosmograph tabled cosmodata\n",
    "\n",
    "import tabled\n",
    "import cosmodata\n",
    "\n",
    "from functools import partial \n",
    "from cosmograph import cosmo"
   ]
  },
  {
   "cell_type": "markdown",
   "id": "50d2a9fe",
   "metadata": {},
   "source": [
    "### Load data"
   ]
  },
  {
   "cell_type": "code",
   "execution_count": 9,
   "id": "b538d229",
   "metadata": {},
   "outputs": [],
   "source": [
    "if ext:\n",
    "    getter = partial(tabled.get_table, ext=ext)\n",
    "else:\n",
    "    getter = tabled.get_table\n",
    "# acquire_data takes care of caching locally too, so next time access will be faster\n",
    "# (If you want a fresh copy, you can delete the local cache file manually.)\n",
    "data = cosmodata.acquire_data(src, target_filename, getter=getter)"
   ]
  },
  {
   "cell_type": "markdown",
   "id": "dfdf79f5",
   "metadata": {},
   "source": [
    "## Peep at the data"
   ]
  },
  {
   "cell_type": "code",
   "execution_count": 10,
   "id": "6dbd5025",
   "metadata": {},
   "outputs": [
    {
     "name": "stdout",
     "output_type": "stream",
     "text": [
      "DataFrame shape: (3065063, 27)\n",
      "First row\n",
      "------------------------------------------------------------\n",
      "owner                                            xdedzl\n",
      "name                               RuntimeTerrainEditor\n",
      "stars                                                82\n",
      "forks                                                29\n",
      "watchers                                              6\n",
      "isFork                                            False\n",
      "isArchived                                        False\n",
      "languages                   C#: 162842, ShaderLab: 1965\n",
      "languageCount                                         2\n",
      "topics                                                 \n",
      "topicCount                                            0\n",
      "diskUsageKb                                      140632\n",
      "pullRequests                                          0\n",
      "issues                                                0\n",
      "description                                    运行时地形编辑器\n",
      "primaryLanguage                                      C#\n",
      "createdAt                          2019-03-18T15:54:07Z\n",
      "pushedAt                           2020-07-29T15:35:12Z\n",
      "defaultBranchCommitCount                           40.0\n",
      "license                                            None\n",
      "assignableUserCount                                   1\n",
      "codeOfConduct                                      None\n",
      "forkingAllowed                                     True\n",
      "nameWithOwner               xdedzl/RuntimeTerrainEditor\n",
      "parent                                              NaN\n",
      "x                                              3.785885\n",
      "y                                              7.999375\n"
     ]
    }
   ],
   "source": [
    "mode = 'short'  #Literal['short', 'sample', 'stats'] = 'short',\n",
    "exclude_cols = []\n",
    "cosmodata.print_dataframe_info(data, exclude_cols, mode=mode)"
   ]
  },
  {
   "cell_type": "markdown",
   "id": "849935ee",
   "metadata": {},
   "source": [
    "## Visualize data"
   ]
  },
  {
   "cell_type": "markdown",
   "id": "b0ac3f2a-1f3d-4379-b756-157861eb8934",
   "metadata": {},
   "source": []
  },
  {
   "cell_type": "code",
   "execution_count": null,
   "id": "89659864-c760-401a-8238-d48e746f430c",
   "metadata": {},
   "outputs": [],
   "source": []
  },
  {
   "cell_type": "code",
   "execution_count": null,
   "id": "c3da2296-462a-44b5-8c36-25b37ec6a7bb",
   "metadata": {},
   "outputs": [],
   "source": []
  },
  {
   "cell_type": "code",
   "execution_count": null,
   "id": "84e2d665-669c-4e66-a9b6-2b97af7ee2d8",
   "metadata": {},
   "outputs": [],
   "source": []
  },
  {
   "cell_type": "markdown",
   "id": "8de43373",
   "metadata": {},
   "source": [
    "### Watchers and stars\n",
    "\n",
    "This visualization aims to show the relationship between the number of watchers and stars each repository has. \n",
    "\n",
    "**Warning: This one takes a long time to load (3M points!!), and may make your computer go boom, so choose a sample accordingly...**"
   ]
  },
  {
   "cell_type": "code",
   "execution_count": 37,
   "id": "ebafb73d",
   "metadata": {},
   "outputs": [
    {
     "data": {
      "application/vnd.jupyter.widget-view+json": {
       "model_id": "329ed30f03d94d8cb81f60b52719f210",
       "version_major": 2,
       "version_minor": 1
      },
      "text/plain": [
       "Cosmograph(background_color=None, components_display_state_mode=None, disable_point_color_legend=False, disabl…"
      ]
     },
     "execution_count": 37,
     "metadata": {},
     "output_type": "execute_result"
    }
   ],
   "source": [
    "cosmo(\n",
    "    data.head(1_000_000),  # data.head(100_000)\n",
    "    point_x_by=\"x\",\n",
    "    point_y_by=\"y\",\n",
    "    point_size_by=\"stars\",\n",
    "    point_color_by=\"primaryLanguage\",\n",
    "    point_label_by=\"name\",\n",
    "    point_id_by=\"nameWithOwner\",\n",
    "    point_color_strategy=\"palette\",\n",
    "    show_labels=True,\n",
    "    disable_point_size_legend=False,\n",
    "    disable_point_color_legend=False,\n",
    ")"
   ]
  },
  {
   "cell_type": "code",
   "execution_count": 38,
   "id": "b6724727-15c7-4b39-9f0d-60934022f6bb",
   "metadata": {},
   "outputs": [
    {
     "data": {
      "text/plain": [
       "cosmograph.widget.Cosmograph"
      ]
     },
     "execution_count": 38,
     "metadata": {},
     "output_type": "execute_result"
    }
   ],
   "source": [
    "g = _\n",
    "type(g)"
   ]
  },
  {
   "cell_type": "code",
   "execution_count": 40,
   "id": "e2645e43-dd47-49d3-addf-5c50959a72e3",
   "metadata": {},
   "outputs": [],
   "source": [
    "g.capture_screenshot()"
   ]
  },
  {
   "cell_type": "code",
   "execution_count": null,
   "id": "9baa4a2d-803d-4367-8939-09f707bbe2d7",
   "metadata": {},
   "outputs": [],
   "source": []
  }
 ],
 "metadata": {
  "kernelspec": {
   "display_name": "Python 3 (ipykernel)",
   "language": "python",
   "name": "python3"
  },
  "language_info": {
   "codemirror_mode": {
    "name": "ipython",
    "version": 3
   },
   "file_extension": ".py",
   "mimetype": "text/x-python",
   "name": "python",
   "nbconvert_exporter": "python",
   "pygments_lexer": "ipython3",
   "version": "3.12.12"
  }
 },
 "nbformat": 4,
 "nbformat_minor": 5
}
