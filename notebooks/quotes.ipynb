{
 "cells": [
  {
   "cell_type": "markdown",
   "id": "2ede8388",
   "metadata": {},
   "source": [
    "### Quotes Dataset\n",
    "- **Description:** Collection of 1,638 famous quotes.\n",
    "- **Data Source:** [micheleriva_1638_quotes_planar_embeddings.parquet](https://www.dropbox.com/scl/fi/hgqxoi9edehwq4d17k3q7/micheleriva_1638_quotes_planar_embeddings.parquet?rlkey=wey433rcicsxkhghhlpwbskwu&dl=1)\n",
    "  - **Potential columns for visualization:**\n",
    "    - **X & Y Coordinates:** `x`, `y`\n",
    "    - **Label:** `quote`"
   ]
  },
  {
   "cell_type": "markdown",
   "id": "a508870f",
   "metadata": {},
   "source": [
    "## Get data"
   ]
  },
  {
   "cell_type": "markdown",
   "id": "a017289d",
   "metadata": {},
   "source": [
    "### Data parameters"
   ]
  },
  {
   "cell_type": "code",
   "execution_count": 1,
   "id": "dc21d9c0",
   "metadata": {},
   "outputs": [],
   "source": [
    "ext = '.parquet'\n",
    "src = 'https://www.dropbox.com/scl/fi/hgqxoi9edehwq4d17k3q7/micheleriva_1638_quotes_planar_embeddings.parquet?rlkey=wey433rcicsxkhghhlpwbskwu&dl=1'\n",
    "target_filename = 'micheleriva_1638_quotes_planar_embeddings.parquet'"
   ]
  },
  {
   "cell_type": "markdown",
   "id": "ac6f0bdf",
   "metadata": {},
   "source": [
    "### Install and import"
   ]
  },
  {
   "cell_type": "code",
   "execution_count": 2,
   "id": "69760d50",
   "metadata": {},
   "outputs": [],
   "source": [
    "import os\n",
    "if not os.getenv('IN_COSMO_DEV_ENV'):\n",
    "    %pip install -q cosmograph tabled cosmodata\n",
    "\n",
    "import tabled\n",
    "import cosmodata\n",
    "\n",
    "from functools import partial \n",
    "from cosmograph import cosmo"
   ]
  },
  {
   "cell_type": "markdown",
   "id": "74c5da5e",
   "metadata": {},
   "source": [
    "### Load data"
   ]
  },
  {
   "cell_type": "code",
   "execution_count": 3,
   "id": "99c0f7f1",
   "metadata": {},
   "outputs": [
    {
     "name": "stdout",
     "output_type": "stream",
     "text": [
      "Fetching data from https://www.dropbox.com/scl/fi/hgqxoi9edehwq4d17k3q7/micheleriva_1638_quotes_planar_embeddings.parquet?rlkey=wey433rcicsxkhghhlpwbskwu&dl=1...\n",
      "Data cached at: /Users/thorwhalen/.local/share/cosmodata/datasets/micheleriva_1638_quotes_planar_embeddings.parquet.pkl\n"
     ]
    }
   ],
   "source": [
    "if ext:\n",
    "    getter = partial(tabled.get_table, ext=ext)\n",
    "else:\n",
    "    getter = tabled.get_table\n",
    "# acquire_data takes care of caching locally too, so next time access will be faster\n",
    "# (If you want a fresh copy, you can delete the local cache file manually.)\n",
    "data = cosmodata.acquire_data(src, target_filename, getter=getter)"
   ]
  },
  {
   "cell_type": "markdown",
   "id": "6546aa34",
   "metadata": {},
   "source": [
    "## Peep at the data"
   ]
  },
  {
   "cell_type": "code",
   "execution_count": 4,
   "id": "b973230c",
   "metadata": {},
   "outputs": [
    {
     "name": "stdout",
     "output_type": "stream",
     "text": [
      "DataFrame shape: (1638, 3)\n",
      "First row\n",
      "------------------------------------------------------------\n",
      "quote    Genius is one percent inspiration and ninety-n...\n",
      "x                                                11.794733\n",
      "y                                                   5.6216\n"
     ]
    }
   ],
   "source": [
    "mode = 'short'  #Literal['short', 'sample', 'stats'] = 'short',\n",
    "exclude_cols = []\n",
    "cosmodata.print_dataframe_info(data, exclude_cols, mode=mode)"
   ]
  },
  {
   "cell_type": "markdown",
   "id": "920e1d05",
   "metadata": {},
   "source": [
    "## Visualize data"
   ]
  },
  {
   "cell_type": "markdown",
   "id": "b8d98ab6",
   "metadata": {},
   "source": [
    "### Quotes Scatter Plot\n",
    "\n",
    "This visualization displays quotes in a 2D scatter plot, where the coordinates are determined by the numerical columns `x` and `y`. The size of the points is uniform, while the color of the points can be adjusted for clarity or categorize them visually. The quotes can also be displayed as labels on hover, providing context to the visualization."
   ]
  },
  {
   "cell_type": "code",
   "execution_count": 11,
   "id": "f9bef219",
   "metadata": {},
   "outputs": [
    {
     "data": {
      "application/vnd.jupyter.widget-view+json": {
       "model_id": "a8ab7e2a375248dba059207a6baa2770",
       "version_major": 2,
       "version_minor": 1
      },
      "text/plain": [
       "Cosmograph(background_color=None, components_display_state_mode=None, fit_view_on_init=True, focused_point_rin…"
      ]
     },
     "execution_count": 11,
     "metadata": {},
     "output_type": "execute_result"
    }
   ],
   "source": [
    "cosmo(\n",
    "    data,\n",
    "    point_x_by=\"x\",\n",
    "    point_y_by=\"y\",\n",
    "    point_label_by=\"quote\",\n",
    "    point_color=\"#b3b3b3\",\n",
    "    point_id_by=\"quote\",\n",
    "    show_labels=True,\n",
    "    # show_hovered_point_label=True,\n",
    "    # show_dynamic_labels=False,\n",
    "    fit_view_on_init=True,\n",
    ")"
   ]
  },
  {
   "cell_type": "code",
   "execution_count": null,
   "id": "1bfe4841",
   "metadata": {},
   "outputs": [],
   "source": []
  }
 ],
 "metadata": {
  "kernelspec": {
   "display_name": "p12",
   "language": "python",
   "name": "python3"
  },
  "language_info": {
   "codemirror_mode": {
    "name": "ipython",
    "version": 3
   },
   "file_extension": ".py",
   "mimetype": "text/x-python",
   "name": "python",
   "nbconvert_exporter": "python",
   "pygments_lexer": "ipython3",
   "version": "3.12.12"
  }
 },
 "nbformat": 4,
 "nbformat_minor": 5
}
